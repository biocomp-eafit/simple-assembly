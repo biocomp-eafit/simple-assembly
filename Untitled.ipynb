{
 "cells": [
  {
   "cell_type": "markdown",
   "metadata": {},
   "source": [
    "# Ensamble de ADN mediante grafos de De Bruijn"
   ]
  },
  {
   "cell_type": "markdown",
   "metadata": {},
   "source": [
    "## Problema del periodico\n",
    "Supongamos que metemos cada copia de un periódico de un dia especifico en un cofre de madera, imaginemos ademas que dicho cofre es detonado con dinamita y adicionalmente supongamos que no todos los periódicos están destruidos (como seguramente sucedería en la vida real) sino que estos explotaron en pequeños pedazos de confeti.\n",
    "**¿qué decia el periódico?**"
   ]
  },
  {
   "cell_type": "markdown",
   "metadata": {},
   "source": [
    "![](res/newspaper.png)"
   ]
  },
  {
   "cell_type": "markdown",
   "metadata": {},
   "source": [
    "Este es basicamente el \"problema del periodico\", probablemente hayamos perdido algo de información en la explocion, sin embargo, también podemos ver que debido a que el cofre contenía muchas copias idénticas del mismo periódico, diferentes fragmentos de papel pueden superponerse y, por lo tanto, contener parte de la misma información."
   ]
  },
  {
   "cell_type": "markdown",
   "metadata": {},
   "source": [
    "![](res/news.png)"
   ]
  },
  {
   "cell_type": "markdown",
   "metadata": {},
   "source": [
    "# El problema del ensamblado"
   ]
  },
  {
   "cell_type": "markdown",
   "metadata": {},
   "source": [
    "El problema del periodico captura la esencia del ensamblaje de fragmentos de ADN. La tecnología de secuenciacion son (por el momento) incapaces de \"leer\" un genoma completo nucleótido por nucleótido, sin embargo es posible interpretar indirectamente secuencias cortas de ADN, a las que llamaremos \"reads\". Teniendo esto en cuenta la idea detrás de la secuenciación de ADN, entonces, es generar muchos \"reads\" de múltiples copias del mismo genoma, lo que resulta en un rompecabezas como el de los periodicos gigantesco."
   ]
  },
  {
   "cell_type": "markdown",
   "metadata": {},
   "source": [
    "![](res/reads.png)"
   ]
  },
  {
   "cell_type": "markdown",
   "metadata": {},
   "source": [
    "Teniendo esto en cuenta, el problema de la secuenciacion genetica se reduce a la generacion de reads (un problema biologico) y el ensamble de fragmentos (un problema algoritmico). La generacion de reads ha sido el tema de discusión en varias secciones del semillero asi que será omitida."
   ]
  },
  {
   "cell_type": "markdown",
   "metadata": {},
   "source": [
    "### ¿Son el problema del ensamblado y el del periodico equivalentes?\n",
    "#### * SPOILER ALERT *: NO\n",
    "* El DNA tiene dos cadenas, a priori no podemos saber si una secuencia pertenece a la cadena original o a su inversa complementaria\n",
    "* Las tecnicas de secuenciacion introducen cierto error"
   ]
  },
  {
   "cell_type": "markdown",
   "metadata": {},
   "source": [
    "Veamos un algoritmo capaz de resolver este problema"
   ]
  },
  {
   "cell_type": "markdown",
   "metadata": {},
   "source": [
    "# Algoritmo de De Bruijn"
   ]
  },
  {
   "cell_type": "markdown",
   "metadata": {},
   "source": [
    "Consideremos el siguiente modelo conocido como modelo de lectura densa (dense model), tratar de resolver el problema del ensamble en esta configuracion nos da un algoritmo que puede ser extrapolado para un caso mas realista.\n",
    "\n",
    "Un modelo de lectura densa supone que tenemos un read que comienza en cada posicion del genoma, adicionalmente, que cada read posee una longitud fija L, por convencion al conjunto de estos reads lo llamaremos espectro-L "
   ]
  },
  {
   "cell_type": "markdown",
   "metadata": {},
   "source": [
    "![](res/Lspectrum.png)"
   ]
  },
  {
   "cell_type": "markdown",
   "metadata": {},
   "source": [
    "El espectro-L puede ser pensado como el conjunto de todos los reads de longitud L unicos obtenidos cuando tenemos infinitas lecturas del genoma $G$"
   ]
  },
  {
   "cell_type": "markdown",
   "metadata": {},
   "source": [
    "## Grafo de De Bruijn\n",
    "En [teoria de grafos](http://funes.uniandes.edu.co/6102/1/CombarizaUnaintroducci%C3%B3nGeometr%C3%ADa2003.pdf), el grafo de De Bruijn estandar es un grafo que surge que tomar todos las posibles subcadenas sobre un alfabeto dado de longitud $l$ como vertices, y agregando aristas entre dos vertices y posean un sobrelapamiento de $l-1$. Consideraremos una version ligeramente modificada para nuestro L-espectro"
   ]
  },
  {
   "cell_type": "markdown",
   "metadata": {},
   "source": [
    "Dado el L-espectro de un genoma, construiremos un grado de De Bruijn de la siguiente manera:\n",
    "1. Agregaremos un vertice por cada (L-1)-mer en el L-espectro\n",
    "2. Agregaremos $k$ aristas entre 2 (L-1)-mers si su sobrelapamiento posee longitud L-2 y el L-mer correspondiente aparece $k$ veces en el L-espectro"
   ]
  },
  {
   "cell_type": "markdown",
   "metadata": {},
   "source": [
    "Veamos un ejemplo para entender esta idea, consideremos la secuencia \n",
    "`ATAGACCCTAGACGAT` y $L = 5$\n",
    "de esta manera, su L-espectro estaria formado por todos las posibles subcadenas de longitud 5."
   ]
  },
  {
   "cell_type": "code",
   "execution_count": 2,
   "metadata": {},
   "outputs": [],
   "source": [
    "seq = \"ATAGACCCTAGACGAT\""
   ]
  },
  {
   "cell_type": "markdown",
   "metadata": {},
   "source": [
    "Notemos que tanto *TAGA* como *AGAC* estan repetidos, por lo cual tendran un tratamiento especial."
   ]
  },
  {
   "cell_type": "markdown",
   "metadata": {},
   "source": [
    "Ya que tenemos todo en orden, creemos nuestro grafo, para esto, utilizaremos la libreria NetworkX, una comoda libreria que permite trabajar con grafos comodamente"
   ]
  },
  {
   "cell_type": "code",
   "execution_count": 21,
   "metadata": {},
   "outputs": [],
   "source": [
    "class Kmer():\n",
    "    def __init__(self, kmers_str):\n",
    "        self.kmer_str = kmers_str\n",
    "        self.k = len(self.kmer_str)\n",
    "        self.prefix_node = self.kmer_str[:-1]\n",
    "        self.sufix_node = self.kmer_str[1:]\n",
    "\n",
    "    def __str__(self):\n",
    "        return self.kmer_str\n",
    "\n",
    "\n",
    "def read2kmer(seq, k):\n",
    "    return [Kmer(seq[i:i + k].upper()) \\\n",
    "                for i in range(len(seq) - k + 1)]\n",
    "\n",
    "\n",
    "def build_graph(sequences, k):\n",
    "    G = nx.MultiDiGraph()\n",
    "    for seq in sequences:\n",
    "        for kmer in read2kmer(seq, k):\n",
    "            if kmer.prefix_node not in G.nodes():\n",
    "                G.add_node(kmer.prefix_node)\n",
    "            if kmer.sufix_node not in G.nodes():\n",
    "                G.add_node(kmer.sufix_node)\n",
    "    if len(G.nodes()):\n",
    "        [G.add_edge(L, R) for L in G.nodes() for R in \\\n",
    "            G.nodes() if L[1:] == R[:-1]]\n",
    "    return G"
   ]
  },
  {
   "cell_type": "code",
   "execution_count": 22,
   "metadata": {},
   "outputs": [],
   "source": [
    "G = build_graph([seq], 5)"
   ]
  },
  {
   "cell_type": "code",
   "execution_count": 25,
   "metadata": {},
   "outputs": [],
   "source": [
    "from src.euler import * "
   ]
  },
  {
   "cell_type": "code",
   "execution_count": 27,
   "metadata": {},
   "outputs": [
    {
     "data": {
      "text/plain": [
       "(True, 'AGAC', 'CGAT')"
      ]
     },
     "execution_count": 27,
     "metadata": {},
     "output_type": "execute_result"
    }
   ],
   "source": [
    "has_euler_path(G)"
   ]
  },
  {
   "cell_type": "code",
   "execution_count": null,
   "metadata": {},
   "outputs": [],
   "source": []
  }
 ],
 "metadata": {
  "kernelspec": {
   "display_name": "Python 3",
   "language": "python",
   "name": "python3"
  },
  "language_info": {
   "codemirror_mode": {
    "name": "ipython",
    "version": 3
   },
   "file_extension": ".py",
   "mimetype": "text/x-python",
   "name": "python",
   "nbconvert_exporter": "python",
   "pygments_lexer": "ipython3",
   "version": "3.6.7"
  }
 },
 "nbformat": 4,
 "nbformat_minor": 2
}

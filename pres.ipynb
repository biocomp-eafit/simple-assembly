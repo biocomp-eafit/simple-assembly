{
 "cells": [
  {
   "cell_type": "markdown",
   "metadata": {
    "slideshow": {
     "slide_type": "slide"
    }
   },
   "source": [
    "# Ensamble de ADN mediante grafos de De Bruijn"
   ]
  },
  {
   "cell_type": "markdown",
   "metadata": {
    "slideshow": {
     "slide_type": "subslide"
    }
   },
   "source": [
    "## Problema del periodico\n",
    "Supongamos que metemos cada copia de un periódico de un dia especifico en un cofre de madera, imaginemos ademas que dicho cofre es detonado con dinamita y adicionalmente supongamos que no todos los periódicos están destruidos (como seguramente sucedería en la vida real) sino que estos explotaron en pequeños pedazos de confeti.\n",
    "**¿qué decia el periódico?**"
   ]
  },
  {
   "cell_type": "markdown",
   "metadata": {
    "slideshow": {
     "slide_type": "subslide"
    }
   },
   "source": [
    "![](res/newspaper.png)"
   ]
  },
  {
   "cell_type": "markdown",
   "metadata": {
    "slideshow": {
     "slide_type": "subslide"
    }
   },
   "source": [
    "Este es basicamente el \"problema del periodico\", probablemente hayamos perdido algo de información en la explocion, sin embargo, también podemos ver que debido a que el cofre contenía muchas copias idénticas del mismo periódico, diferentes fragmentos de papel pueden superponerse y, por lo tanto, contener parte de la misma información."
   ]
  },
  {
   "cell_type": "markdown",
   "metadata": {
    "slideshow": {
     "slide_type": "subslide"
    }
   },
   "source": [
    "![](res/news.png)"
   ]
  },
  {
   "cell_type": "markdown",
   "metadata": {
    "slideshow": {
     "slide_type": "slide"
    }
   },
   "source": [
    "# El problema del ensamblado"
   ]
  },
  {
   "cell_type": "markdown",
   "metadata": {
    "slideshow": {
     "slide_type": "subslide"
    }
   },
   "source": [
    "El problema del periodico captura la esencia del ensamblaje de fragmentos de ADN. La tecnología de secuenciacion son (por el momento) incapaces de \"leer\" un genoma completo nucleótido por nucleótido, sin embargo es posible interpretar indirectamente secuencias cortas de ADN, a las que llamaremos \"reads\". Teniendo esto en cuenta la idea detrás de la secuenciación de ADN, entonces, es generar muchos \"reads\" de múltiples copias del mismo genoma, lo que resulta en un rompecabezas como el de los periodicos gigantesco."
   ]
  },
  {
   "cell_type": "markdown",
   "metadata": {
    "slideshow": {
     "slide_type": "subslide"
    }
   },
   "source": [
    "![](res/reads.png)"
   ]
  },
  {
   "cell_type": "markdown",
   "metadata": {
    "slideshow": {
     "slide_type": "subslide"
    }
   },
   "source": [
    "Teniendo esto en cuenta, el problema de la secuenciacion genetica se reduce a la generacion de reads (un problema biologico) y el ensamble de fragmentos (un problema algoritmico). La generacion de reads ha sido el tema de discusión en varias secciones del semillero asi que será omitida."
   ]
  },
  {
   "cell_type": "markdown",
   "metadata": {
    "slideshow": {
     "slide_type": "subslide"
    }
   },
   "source": [
    "### ¿Son el problema del ensamblado y el del periodico equivalentes?\n",
    "#### * SPOILER ALERT *: NO\n",
    "* El DNA tiene dos cadenas, a priori no podemos saber si una secuencia pertenece a la cadena original o a su inversa complementaria\n",
    "* Las tecnicas de secuenciacion introducen cierto error"
   ]
  },
  {
   "cell_type": "markdown",
   "metadata": {
    "slideshow": {
     "slide_type": "slide"
    }
   },
   "source": [
    "# Teoria de Grafos"
   ]
  },
  {
   "cell_type": "markdown",
   "metadata": {
    "slideshow": {
     "slide_type": "fragment"
    }
   },
   "source": [
    "Un grafo $G$ es un par ordenado $G = (V, E)$ donde:\n",
    "* $V$ es un conjunto de vertices o nodos\n",
    "* $E$ es un conjunto de aristas o arcos, que relacionan estos nodos."
   ]
  },
  {
   "cell_type": "markdown",
   "metadata": {
    "slideshow": {
     "slide_type": "fragment"
    }
   },
   "source": [
    "### Grafos dirigidos\n",
    "* $V \\neq \\emptyset$\n",
    "* $E \\subseteq \\{(a, b)\\in V\\times V : a\\neq b\\}$ es un conjunto de pares ordenados de elementos de $V$\n",
    "\n",
    "Data una arista $(a, b)$, $a$ es su nodo inicial y $b$ su nodo final\n"
   ]
  },
  {
   "cell_type": "markdown",
   "metadata": {
    "slideshow": {
     "slide_type": "subslide"
    }
   },
   "source": [
    "### Multigrafo\n",
    "* V es un conjunto de vertices o nodos\n",
    "* E es un multiconjunto de aristas, es decir, pueden repetirse elementos"
   ]
  },
  {
   "cell_type": "markdown",
   "metadata": {
    "slideshow": {
     "slide_type": "fragment"
    }
   },
   "source": [
    "### Camino\n",
    "Se llama camino a una secuencia de vértices dentro de un grafo tal que exista una arista entre cada vértice y el siguiente. Se dice que dos vértices están conectados si existe un camino que vaya de uno a otro, de lo contrario estarán desconectados."
   ]
  },
  {
   "cell_type": "markdown",
   "metadata": {
    "slideshow": {
     "slide_type": "fragment"
    }
   },
   "source": [
    "### Camino Eulereano\n",
    "Es un camino que pasa por cada arista una y solo una vez.\n",
    "\n",
    "* Puede ser resuelto en tiempo lineal"
   ]
  },
  {
   "cell_type": "markdown",
   "metadata": {},
   "source": [
    "# LOS GRAFOS SON DIOS!"
   ]
  },
  {
   "cell_type": "markdown",
   "metadata": {
    "slideshow": {
     "slide_type": "slide"
    }
   },
   "source": [
    "# Algoritmo de De Bruijn"
   ]
  },
  {
   "cell_type": "markdown",
   "metadata": {
    "slideshow": {
     "slide_type": "subslide"
    }
   },
   "source": [
    "Consideremos el siguiente modelo conocido como modelo de lectura densa (dense model), tratar de resolver el problema del ensamble en esta configuracion nos da un algoritmo que puede ser extrapolado para un caso mas realista."
   ]
  },
  {
   "cell_type": "markdown",
   "metadata": {
    "slideshow": {
     "slide_type": "fragment"
    }
   },
   "source": [
    "Un modelo de lectura densa supone que tenemos un read que comienza en cada posicion del genoma, adicionalmente, que cada read posee una longitud fija $L$, por convencion al conjunto de estos reads lo llamaremos L-spectrum"
   ]
  },
  {
   "cell_type": "markdown",
   "metadata": {
    "slideshow": {
     "slide_type": "fragment"
    }
   },
   "source": [
    "![](res/Lspectrum.png)"
   ]
  },
  {
   "cell_type": "markdown",
   "metadata": {
    "slideshow": {
     "slide_type": "fragment"
    }
   },
   "source": [
    "El L-spectrum puede ser pensado como el conjunto de todos los reads de longitud $L$ unicos obtenidos cuando tenemos infinitas lecturas del genoma $G$"
   ]
  },
  {
   "cell_type": "markdown",
   "metadata": {
    "slideshow": {
     "slide_type": "subslide"
    }
   },
   "source": [
    "## Grafo de De Bruijn\n",
    "En teoria de grafos, el grafo de De Bruijn estandar es un grafo que surge que tomar todos las posibles subcadenas sobre un alfabeto dado de longitud $l$ como vertices, y agregando aristas entre dos vertices si posean un sobrelapamiento de $L-1$. \n",
    "\n",
    "Consideraremos una version ligeramente modificada para nuestro L-spectrum"
   ]
  },
  {
   "cell_type": "markdown",
   "metadata": {
    "slideshow": {
     "slide_type": "fragment"
    }
   },
   "source": [
    "Dado el L-spectrum de un genoma, construiremos un grado de De Bruijn de la siguiente manera:\n",
    "1. Agregaremos un vertice por cada (L-1)-mer en el L-espectro\n",
    "2. Agregaremos $k$ aristas entre 2 (L-1)-mers si su sobrelapamiento posee longitud L-2 y el L-mer correspondiente aparece $k$ veces en el L-espectro"
   ]
  },
  {
   "cell_type": "markdown",
   "metadata": {
    "slideshow": {
     "slide_type": "subslide"
    }
   },
   "source": [
    "Veamos un ejemplo para entender esta idea, consideremos la secuencia \n",
    "`ATAGACCCTAGACGAT` y $L = 5$\n",
    "de esta manera, su L-espectro estaria formado por todos las posibles subcadenas de longitud 5."
   ]
  },
  {
   "cell_type": "code",
   "execution_count": 1,
   "metadata": {
    "scrolled": true,
    "slideshow": {
     "slide_type": "fragment"
    }
   },
   "outputs": [
    {
     "name": "stdout",
     "output_type": "stream",
     "text": [
      "ATAGACCCTAGACGA\n",
      " TAGACCCTAGACGAT\n",
      "  AGACCCTAGA\n",
      "   GACCCTAGAC\n",
      "    ACCCTAGACG\n",
      "ATAGACCCTAGACGAT\n"
     ]
    }
   ],
   "source": [
    "from talk import * \n",
    "\n",
    "seq = 'ATAGACCCTAGACGAT'\n",
    "\n",
    "spect = L_spectrum(seq, 5)"
   ]
  },
  {
   "cell_type": "code",
   "execution_count": 25,
   "metadata": {
    "slideshow": {
     "slide_type": "fragment"
    }
   },
   "outputs": [
    {
     "name": "stdout",
     "output_type": "stream",
     "text": [
      "['ATAGA', 'TAGAC', 'AGACC', 'GACCC', 'ACCCT', 'CCCTA', 'CCTAG', 'CTAGA', 'TAGAC', 'AGACG', 'GACGA', 'ACGAT']\n"
     ]
    }
   ],
   "source": [
    "print(spect)"
   ]
  },
  {
   "cell_type": "code",
   "execution_count": 2,
   "metadata": {
    "slideshow": {
     "slide_type": "subslide"
    }
   },
   "outputs": [
    {
     "name": "stdout",
     "output_type": "stream",
     "text": [
      "[['TAGA', 'ATAG'], ['AGAC', 'TAGA'], ['GACC', 'AGAC'], ['ACCC', 'GACC'], ['CCCT', 'ACCC'], ['CCTA', 'CCCT'], ['CTAG', 'CCTA'], ['TAGA', 'CTAG'], ['AGAC', 'TAGA'], ['GACG', 'AGAC'], ['ACGA', 'GACG'], ['CGAT', 'ACGA']]\n"
     ]
    }
   ],
   "source": [
    "mers = [[mer[1:], mer[:-1]] for mer in spect]\n",
    "print(mers)"
   ]
  },
  {
   "cell_type": "code",
   "execution_count": 3,
   "metadata": {
    "slideshow": {
     "slide_type": "fragment"
    }
   },
   "outputs": [
    {
     "name": "stdout",
     "output_type": "stream",
     "text": [
      "['TAGA', 'ATAG', 'AGAC', 'TAGA', 'GACC', 'AGAC', 'ACCC', 'GACC', 'CCCT', 'ACCC', 'CCTA', 'CCCT', 'CTAG', 'CCTA', 'TAGA', 'CTAG', 'AGAC', 'TAGA', 'GACG', 'AGAC', 'ACGA', 'GACG', 'CGAT', 'ACGA']\n"
     ]
    }
   ],
   "source": [
    "l_1_mer = sum(mers, [])\n",
    "print(l_1_mer)"
   ]
  },
  {
   "cell_type": "code",
   "execution_count": 4,
   "metadata": {
    "slideshow": {
     "slide_type": "subslide"
    }
   },
   "outputs": [
    {
     "data": {
      "text/plain": [
       "[('ACGA', 'CGAT'),\n",
       " ('TAGA', 'AGAC'),\n",
       " ('CCTA', 'CTAG'),\n",
       " ('ACCC', 'CCCT'),\n",
       " ('ATAG', 'TAGA'),\n",
       " ('GACG', 'ACGA'),\n",
       " ('AGAC', 'GACC'),\n",
       " ('CTAG', 'TAGA'),\n",
       " ('CCCT', 'CCTA'),\n",
       " ('AGAC', 'GACG'),\n",
       " ('GACC', 'ACCC')]"
      ]
     },
     "execution_count": 4,
     "metadata": {},
     "output_type": "execute_result"
    }
   ],
   "source": [
    "from itertools import permutations\n",
    "\n",
    "l_2_mer = list(set([(i, j) \\\n",
    "                   for i, j in permutations(l_1_mer, 2) \\\n",
    "                   if i[1:] == j[:-1]]))\n",
    "l_2_mer"
   ]
  },
  {
   "cell_type": "code",
   "execution_count": 5,
   "metadata": {
    "slideshow": {
     "slide_type": "fragment"
    }
   },
   "outputs": [
    {
     "data": {
      "text/plain": [
       "[('ACGA', 'CGAT'),\n",
       " ('TAGA', 'AGAC'),\n",
       " ('TAGA', 'AGAC'),\n",
       " ('CCTA', 'CTAG'),\n",
       " ('ACCC', 'CCCT'),\n",
       " ('ATAG', 'TAGA'),\n",
       " ('GACG', 'ACGA'),\n",
       " ('AGAC', 'GACC'),\n",
       " ('CTAG', 'TAGA'),\n",
       " ('CCCT', 'CCTA'),\n",
       " ('AGAC', 'GACG'),\n",
       " ('GACC', 'ACCC')]"
      ]
     },
     "execution_count": 5,
     "metadata": {},
     "output_type": "execute_result"
    }
   ],
   "source": [
    "l_2_mer_k = sum([[(i,j)] * seq.count(i + j[-1]) \\\n",
    "                 for i, j in l_2_mer], [])\n",
    "l_2_mer_k"
   ]
  },
  {
   "cell_type": "markdown",
   "metadata": {
    "slideshow": {
     "slide_type": "skip"
    }
   },
   "source": [
    "Ya que tenemos todo en orden, creemos nuestro grafo, para esto, utilizaremos la libreria NetworkX, una libreria que permite trabajar con grafos comodamente"
   ]
  },
  {
   "cell_type": "code",
   "execution_count": 6,
   "metadata": {
    "slideshow": {
     "slide_type": "subslide"
    }
   },
   "outputs": [
    {
     "data": {
      "text/plain": [
       "[0, 0, 1, 0, 0, 0, 0, 0, 0, 0, 0, 0]"
      ]
     },
     "execution_count": 6,
     "metadata": {},
     "output_type": "execute_result"
    }
   ],
   "source": [
    "import networkx as nx\n",
    "\n",
    "DB = nx.MultiDiGraph()\n",
    "\n",
    "DB.add_nodes_from(l_1_mer)\n",
    "DB.add_edges_from(l_2_mer_k);"
   ]
  },
  {
   "cell_type": "code",
   "execution_count": 7,
   "metadata": {
    "scrolled": true,
    "slideshow": {
     "slide_type": "fragment"
    }
   },
   "outputs": [
    {
     "data": {
      "image/png": "[encoded data removed]",
      "text/plain": [
       "<Figure size 432x288 with 1 Axes>"
      ]
     },
     "metadata": {},
     "output_type": "display_data"
    }
   ],
   "source": [
    "visualize_graph(DB)"
   ]
  },
  {
   "cell_type": "markdown",
   "metadata": {
    "slideshow": {
     "slide_type": "fragment"
    }
   },
   "source": [
    "Notemos que el camino eulereano de este grafo corresponde exactamente con la secuencia que deseamos reconstruir. Luego si el camino eulereano es unico, entonces el genoma puede ser ensamblado a partir del grafo de De Bruijn inducido por el L-spectrum ."
   ]
  },
  {
   "cell_type": "markdown",
   "metadata": {
    "slideshow": {
     "slide_type": "subslide"
    }
   },
   "source": [
    "Una pareja de reads repetidos se dice _intercalados_ si aparecen alternadas en el genoma. La longitud del mas corto de ellos es conocida como la _longitud de la repeticion intercalada_ y se simboliza con $l_\\text{intervaled}$"
   ]
  },
  {
   "cell_type": "markdown",
   "metadata": {
    "slideshow": {
     "slide_type": "fragment"
    }
   },
   "source": [
    "![](res/interleaved.png)"
   ]
  },
  {
   "cell_type": "markdown",
   "metadata": {
    "slideshow": {
     "slide_type": "subslide"
    }
   },
   "source": [
    "Una repeticion triple, es una repeticion que aparece tres veces en el genoma, es un caso especial de reads intercalados. La longitud de dicho read es $l_\\text{triple}$"
   ]
  },
  {
   "cell_type": "markdown",
   "metadata": {
    "slideshow": {
     "slide_type": "fragment"
    }
   },
   "source": [
    "![](res/triple.png)"
   ]
  },
  {
   "cell_type": "markdown",
   "metadata": {
    "slideshow": {
     "slide_type": "subslide"
    }
   },
   "source": [
    "**Teorema**: Si $L$, es estrictamente mayor a $\\max(l_\\text{intervaled}, l_\\text{triple})$"
   ]
  },
  {
   "cell_type": "code",
   "execution_count": 15,
   "metadata": {
    "slideshow": {
     "slide_type": "subslide"
    }
   },
   "outputs": [
    {
     "data": {
      "text/plain": [
       "[('ATAG', 'TAGA'),\n",
       " ('TAGA', 'AGAC'),\n",
       " ('AGAC', 'GACC'),\n",
       " ('GACC', 'ACCC'),\n",
       " ('ACCC', 'CCCT'),\n",
       " ('CCCT', 'CCTA'),\n",
       " ('CCTA', 'CTAG'),\n",
       " ('CTAG', 'TAGA'),\n",
       " ('TAGA', 'AGAC'),\n",
       " ('AGAC', 'GACG'),\n",
       " ('GACG', 'ACGA'),\n",
       " ('ACGA', 'CGAT')]"
      ]
     },
     "execution_count": 15,
     "metadata": {},
     "output_type": "execute_result"
    }
   ],
   "source": [
    "path = list(euler_path(DB))\n",
    "path"
   ]
  },
  {
   "cell_type": "code",
   "execution_count": 24,
   "metadata": {
    "scrolled": true,
    "slideshow": {
     "slide_type": "fragment"
    }
   },
   "outputs": [
    {
     "name": "stdout",
     "output_type": "stream",
     "text": [
      "ATAGA\n",
      " TAGAC\n",
      "  AGACC\n",
      "   GACCC\n",
      "    ACCCT\n",
      "     CCCTA\n",
      "      CCTAG\n",
      "       CTAGA\n",
      "        TAGAC\n",
      "         AGACG\n",
      "          GACGA\n",
      "           ACGAT\n",
      "ATAGACCCTAGACGAT\n"
     ]
    }
   ],
   "source": [
    "for i, mer in enumerate([i + j[-1] for i, j in path]):\n",
    "    print(' ' * i + mer)\n",
    "print(seq)"
   ]
  },
  {
   "cell_type": "markdown",
   "metadata": {
    "slideshow": {
     "slide_type": "slide"
    }
   },
   "source": [
    "## Un algoritmo practico basado en el grafo de De Bruijn\n",
    "Hemos visto que reconstruir el genoma es relativamente simple en el hipotetico caso de que se posea el L-spectrum del genoma, sin embargo, la vida real (como siempre) es mas dura."
   ]
  },
  {
   "cell_type": "markdown",
   "metadata": {
    "slideshow": {
     "slide_type": "subslide"
    }
   },
   "source": [
    "Para construir una version mas practica del grafo de De Bruijn introduciremos el concepto de k-coverage en el cual, cada substring de longitud k aparece en al menos 1 read. "
   ]
  },
  {
   "cell_type": "markdown",
   "metadata": {
    "slideshow": {
     "slide_type": "fragment"
    }
   },
   "source": [
    "Basicamente tratamos de encontrar el k-spectrum de un genoma con reads de longitud L con L > k. cada read de longitud L nos dan L-k+1 string de longitud k (llamados k-mers). Para cuantificar el numero de reads necesarios para que esto funcione correctamente, dada una probabilidad de evento (1−ϵ), debemos caracterizar el numero de reads de longitud L necesarios para cubrir el k-espectro."
   ]
  },
  {
   "cell_type": "markdown",
   "metadata": {
    "slideshow": {
     "slide_type": "subslide"
    }
   },
   "source": [
    "Notemos que si deseamos conseguir el k-coverage, para cada read debe existir un segundo read que empieza L-k+1 despues de la posicion inicial de este relativa al genoma. "
   ]
  },
  {
   "cell_type": "markdown",
   "metadata": {
    "slideshow": {
     "slide_type": "fragment"
    }
   },
   "source": [
    "\n",
    "Notemos que si es posible generar el k-coverage entonces podemos recuperar el k-spectrum del genoma."
   ]
  },
  {
   "cell_type": "markdown",
   "metadata": {
    "slideshow": {
     "slide_type": "subslide"
    }
   },
   "source": [
    "Consideremos el siguiente algoritmo:\n",
    "```\n",
    "Leamos suficientes reads para conseguir un k-coverage\n",
    "Corramos el algoritmo de De Bruijn con los k-espectros obtenidos\n",
    "```"
   ]
  },
  {
   "cell_type": "markdown",
   "metadata": {
    "slideshow": {
     "slide_type": "fragment"
    }
   },
   "source": [
    "De aqui podemos notar que existe cierto tradeoff en la eleccion de k, se necesita que $k-1 > l_\\text{interleaved}$ para cumplir las condiciones de Ukkonen. Por lo tanto, un valor largo de k da la posibilidad de ensamblar mas genomas, sin embargo, valores largos de k traen valores pequeños de L-k+1. k coverage nos dice que necesitamos obtener reads que comience en cada ventana de L-k+1, lo por que requeriria mayor cantidad de reads"
   ]
  },
  {
   "cell_type": "markdown",
   "metadata": {
    "slideshow": {
     "slide_type": "slide"
    }
   },
   "source": [
    "## Un par de detalles mas"
   ]
  },
  {
   "cell_type": "markdown",
   "metadata": {
    "slideshow": {
     "slide_type": "fragment"
    }
   },
   "source": [
    "* Cada k-mer es representado con nodos \"gemelos\", para resolver el problema con la cadena complementaria.\n",
    "* Una vez se tiene construido el grafo, se suelen aplicar diferentes tecnicas para reducir el error en estas, usualmente, basadas en la topologia del grafo"
   ]
  },
  {
   "cell_type": "markdown",
   "metadata": {
    "slideshow": {
     "slide_type": "fragment"
    }
   },
   "source": [
    "* Un bajo coverage es matematicamente poco esperanzador\n",
    "* Una gran cantidad de regiones repetitivas es retador\n",
    "* Una buena longitud de reads ayuda especialmente cuando hay largas regiones repetitivas\n",
    "* Una tasa de error alta disminuye el coverage"
   ]
  }
 ],
 "metadata": {
  "celltoolbar": "Slideshow",
  "kernelspec": {
   "display_name": "Python 3",
   "language": "python",
   "name": "python3"
  },
  "language_info": {
   "codemirror_mode": {
    "name": "ipython",
    "version": 3
   },
   "file_extension": ".py",
   "mimetype": "text/x-python",
   "name": "python",
   "nbconvert_exporter": "python",
   "pygments_lexer": "ipython3",
   "version": "3.6.7"
  }
 },
 "nbformat": 4,
 "nbformat_minor": 2
}
